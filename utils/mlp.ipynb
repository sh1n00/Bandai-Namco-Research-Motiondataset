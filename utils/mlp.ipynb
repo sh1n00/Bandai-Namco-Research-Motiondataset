{
 "cells": [
  {
   "cell_type": "code",
   "execution_count": 1,
   "metadata": {
    "collapsed": true,
    "ExecuteTime": {
     "end_time": "2023-06-12T16:10:58.751952600Z",
     "start_time": "2023-06-12T16:10:58.482042700Z"
    }
   },
   "outputs": [],
   "source": [
    "import pandas as pd"
   ]
  },
  {
   "cell_type": "code",
   "execution_count": 2,
   "outputs": [],
   "source": [
    "df = pd.read_csv('./dataset-1_bow_angry_001_pos.csv')"
   ],
   "metadata": {
    "collapsed": false,
    "ExecuteTime": {
     "end_time": "2023-06-12T16:11:45.187913700Z",
     "start_time": "2023-06-12T16:11:45.184901800Z"
    }
   }
  },
  {
   "cell_type": "code",
   "execution_count": 3,
   "outputs": [
    {
     "data": {
      "text/plain": "      time  joint_Root.x  joint_Root.y  joint_Root.z  Hips.x   Hips.y  Hips.z  \\\n0  0.00000           0.0           0.0           0.0     0.0  93.9241    -3.0   \n1  0.03333           0.0           0.0           0.0     0.0  93.9241    -3.0   \n2  0.06667           0.0           0.0           0.0     0.0  93.9241    -3.0   \n3  0.10000           0.0           0.0           0.0     0.0  93.9241    -3.0   \n4  0.13333           0.0           0.0           0.0     0.0  93.9241    -3.0   \n\n   Spine.x    Spine.y  Spine.z  ...  UpperLeg_R.z  LowerLeg_R.x  LowerLeg_R.y  \\\n0  0.46406  109.64990 -3.31011  ...      -4.22023      -3.93765      53.39786   \n1  0.46827  109.65002 -3.29749  ...      -4.21829      -3.96047      53.39165   \n2  0.47256  109.65007 -3.28780  ...      -4.21468      -3.95606      53.38172   \n3  0.47554  109.65029 -3.27047  ...      -4.21023      -3.96440      53.37726   \n4  0.47322  109.65065 -3.25278  ...      -4.20383      -3.96215      53.36664   \n\n   LowerLeg_R.z  Foot_R.x  Foot_R.y  Foot_R.z  Toes_R.x  Toes_R.y  Toes_R.z  \n0       2.03968   3.66242  13.57999  -4.00841  -1.06677   6.08921   3.71730  \n1       1.99463   3.66808  13.59512  -4.15712  -1.06236   6.10435   3.56783  \n2       1.91758   3.65887  13.59387  -4.30680  -1.07078   6.10309   3.41862  \n3       1.87955   3.64862  13.60453  -4.44296  -1.07943   6.11367   3.28337  \n4       1.81301   3.64797  13.60293  -4.56946  -1.08396   6.11204   3.15446  \n\n[5 rows x 67 columns]",
      "text/html": "<div>\n<style scoped>\n    .dataframe tbody tr th:only-of-type {\n        vertical-align: middle;\n    }\n\n    .dataframe tbody tr th {\n        vertical-align: top;\n    }\n\n    .dataframe thead th {\n        text-align: right;\n    }\n</style>\n<table border=\"1\" class=\"dataframe\">\n  <thead>\n    <tr style=\"text-align: right;\">\n      <th></th>\n      <th>time</th>\n      <th>joint_Root.x</th>\n      <th>joint_Root.y</th>\n      <th>joint_Root.z</th>\n      <th>Hips.x</th>\n      <th>Hips.y</th>\n      <th>Hips.z</th>\n      <th>Spine.x</th>\n      <th>Spine.y</th>\n      <th>Spine.z</th>\n      <th>...</th>\n      <th>UpperLeg_R.z</th>\n      <th>LowerLeg_R.x</th>\n      <th>LowerLeg_R.y</th>\n      <th>LowerLeg_R.z</th>\n      <th>Foot_R.x</th>\n      <th>Foot_R.y</th>\n      <th>Foot_R.z</th>\n      <th>Toes_R.x</th>\n      <th>Toes_R.y</th>\n      <th>Toes_R.z</th>\n    </tr>\n  </thead>\n  <tbody>\n    <tr>\n      <th>0</th>\n      <td>0.00000</td>\n      <td>0.0</td>\n      <td>0.0</td>\n      <td>0.0</td>\n      <td>0.0</td>\n      <td>93.9241</td>\n      <td>-3.0</td>\n      <td>0.46406</td>\n      <td>109.64990</td>\n      <td>-3.31011</td>\n      <td>...</td>\n      <td>-4.22023</td>\n      <td>-3.93765</td>\n      <td>53.39786</td>\n      <td>2.03968</td>\n      <td>3.66242</td>\n      <td>13.57999</td>\n      <td>-4.00841</td>\n      <td>-1.06677</td>\n      <td>6.08921</td>\n      <td>3.71730</td>\n    </tr>\n    <tr>\n      <th>1</th>\n      <td>0.03333</td>\n      <td>0.0</td>\n      <td>0.0</td>\n      <td>0.0</td>\n      <td>0.0</td>\n      <td>93.9241</td>\n      <td>-3.0</td>\n      <td>0.46827</td>\n      <td>109.65002</td>\n      <td>-3.29749</td>\n      <td>...</td>\n      <td>-4.21829</td>\n      <td>-3.96047</td>\n      <td>53.39165</td>\n      <td>1.99463</td>\n      <td>3.66808</td>\n      <td>13.59512</td>\n      <td>-4.15712</td>\n      <td>-1.06236</td>\n      <td>6.10435</td>\n      <td>3.56783</td>\n    </tr>\n    <tr>\n      <th>2</th>\n      <td>0.06667</td>\n      <td>0.0</td>\n      <td>0.0</td>\n      <td>0.0</td>\n      <td>0.0</td>\n      <td>93.9241</td>\n      <td>-3.0</td>\n      <td>0.47256</td>\n      <td>109.65007</td>\n      <td>-3.28780</td>\n      <td>...</td>\n      <td>-4.21468</td>\n      <td>-3.95606</td>\n      <td>53.38172</td>\n      <td>1.91758</td>\n      <td>3.65887</td>\n      <td>13.59387</td>\n      <td>-4.30680</td>\n      <td>-1.07078</td>\n      <td>6.10309</td>\n      <td>3.41862</td>\n    </tr>\n    <tr>\n      <th>3</th>\n      <td>0.10000</td>\n      <td>0.0</td>\n      <td>0.0</td>\n      <td>0.0</td>\n      <td>0.0</td>\n      <td>93.9241</td>\n      <td>-3.0</td>\n      <td>0.47554</td>\n      <td>109.65029</td>\n      <td>-3.27047</td>\n      <td>...</td>\n      <td>-4.21023</td>\n      <td>-3.96440</td>\n      <td>53.37726</td>\n      <td>1.87955</td>\n      <td>3.64862</td>\n      <td>13.60453</td>\n      <td>-4.44296</td>\n      <td>-1.07943</td>\n      <td>6.11367</td>\n      <td>3.28337</td>\n    </tr>\n    <tr>\n      <th>4</th>\n      <td>0.13333</td>\n      <td>0.0</td>\n      <td>0.0</td>\n      <td>0.0</td>\n      <td>0.0</td>\n      <td>93.9241</td>\n      <td>-3.0</td>\n      <td>0.47322</td>\n      <td>109.65065</td>\n      <td>-3.25278</td>\n      <td>...</td>\n      <td>-4.20383</td>\n      <td>-3.96215</td>\n      <td>53.36664</td>\n      <td>1.81301</td>\n      <td>3.64797</td>\n      <td>13.60293</td>\n      <td>-4.56946</td>\n      <td>-1.08396</td>\n      <td>6.11204</td>\n      <td>3.15446</td>\n    </tr>\n  </tbody>\n</table>\n<p>5 rows × 67 columns</p>\n</div>"
     },
     "execution_count": 3,
     "metadata": {},
     "output_type": "execute_result"
    }
   ],
   "source": [
    "df.head()"
   ],
   "metadata": {
    "collapsed": false,
    "ExecuteTime": {
     "end_time": "2023-06-12T16:11:47.317112800Z",
     "start_time": "2023-06-12T16:11:47.300083800Z"
    }
   }
  },
  {
   "cell_type": "code",
   "execution_count": 4,
   "outputs": [],
   "source": [
    "import numpy as np"
   ],
   "metadata": {
    "collapsed": false,
    "ExecuteTime": {
     "end_time": "2023-06-12T16:12:26.678338800Z",
     "start_time": "2023-06-12T16:12:26.674339100Z"
    }
   }
  },
  {
   "cell_type": "code",
   "execution_count": 8,
   "outputs": [],
   "source": [
    "import torch\n",
    "import torch.nn as nn\n",
    "import torch.optim as optim\n",
    "\n",
    "class MLP(nn.Module):\n",
    "    def __init__(self, input_size, hidden_size, num_classes):\n",
    "        super(MLP, self).__init__()\n",
    "        self.fc1 = nn.Linear(input_size, hidden_size)\n",
    "        self.fc2 = nn.Linear(hidden_size, hidden_size)\n",
    "        self.fc3 = nn.Linear(hidden_size, hidden_size)\n",
    "        self.fc4 = nn.Linear(hidden_size, num_classes)\n",
    "        self.relu = nn.ReLU()\n",
    "\n",
    "    def forward(self, x):\n",
    "        out = self.relu(self.fc1(x))\n",
    "        out = self.relu(self.fc2(out))\n",
    "        out = self.relu(self.fc3(out))\n",
    "        out = self.fc4(out)\n",
    "        return out"
   ],
   "metadata": {
    "collapsed": false,
    "ExecuteTime": {
     "end_time": "2023-06-12T16:25:36.990149Z",
     "start_time": "2023-06-12T16:25:36.986530500Z"
    }
   }
  },
  {
   "cell_type": "code",
   "execution_count": 15,
   "outputs": [
    {
     "name": "stdout",
     "output_type": "stream",
     "text": [
      "torch.Size([90, 9])\n",
      "torch.Size([90, 32])\n",
      "Epoch [1/10], Loss: 4729.35498046875\n",
      "Epoch [2/10], Loss: 4668.9306640625\n",
      "Epoch [3/10], Loss: 4611.0185546875\n",
      "Epoch [4/10], Loss: 4554.30712890625\n",
      "Epoch [5/10], Loss: 4497.55810546875\n",
      "Epoch [6/10], Loss: 4435.7705078125\n",
      "Epoch [7/10], Loss: 4370.2734375\n",
      "Epoch [8/10], Loss: 4298.07470703125\n",
      "Epoch [9/10], Loss: 4217.96728515625\n",
      "Epoch [10/10], Loss: 4128.607421875\n"
     ]
    }
   ],
   "source": [
    "input_size = 9\n",
    "hidden_size=100\n",
    "output_size = 32\n",
    "model = MLP(input_size, hidden_size, output_size)\n",
    "\n",
    "# 損失関数と最適化アルゴリズムの定義\n",
    "criterion = nn.MSELoss()\n",
    "optimizer = optim.Adam(model.parameters(), lr=0.001)\n",
    "\n",
    "inputs = torch.tensor(df.iloc[:, :9].values).float()\n",
    "labels = torch.tensor(df.iloc[:, 9:41].values).float()\n",
    "\n",
    "print(inputs.shape)\n",
    "print(labels.shape)\n",
    "\n",
    "epochs = 1\n",
    "for epoch in range(epochs):\n",
    "    # モデルの推論\n",
    "    outputs = model(inputs)\n",
    "\n",
    "    # 損失の計算\n",
    "    loss = criterion(outputs, labels)\n",
    "\n",
    "    # 勾配の初期化と逆伝播\n",
    "    optimizer.zero_grad()\n",
    "    loss.backward()\n",
    "\n",
    "    # パラメータの更新\n",
    "    optimizer.step()\n",
    "\n",
    "    # 途中結果の表示\n",
    "    if (epoch+1) % 1 == 0:\n",
    "        print(f\"Epoch [{epoch+1}/{epochs}], Loss: {loss.item()}\")"
   ],
   "metadata": {
    "collapsed": false,
    "ExecuteTime": {
     "end_time": "2023-06-12T16:30:02.705063Z",
     "start_time": "2023-06-12T16:30:02.686946700Z"
    }
   }
  },
  {
   "cell_type": "code",
   "execution_count": null,
   "outputs": [],
   "source": [],
   "metadata": {
    "collapsed": false
   }
  }
 ],
 "metadata": {
  "kernelspec": {
   "display_name": "Python 3",
   "language": "python",
   "name": "python3"
  },
  "language_info": {
   "codemirror_mode": {
    "name": "ipython",
    "version": 2
   },
   "file_extension": ".py",
   "mimetype": "text/x-python",
   "name": "python",
   "nbconvert_exporter": "python",
   "pygments_lexer": "ipython2",
   "version": "2.7.6"
  }
 },
 "nbformat": 4,
 "nbformat_minor": 0
}
